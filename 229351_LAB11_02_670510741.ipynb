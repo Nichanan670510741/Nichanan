{
  "cells": [
    {
      "cell_type": "markdown",
      "metadata": {
        "id": "view-in-github",
        "colab_type": "text"
      },
      "source": [
        "<a href=\"https://colab.research.google.com/github/Nichanan670510741/Nichanan/blob/main/229351_LAB11_02_670510741.ipynb\" target=\"_parent\"><img src=\"https://colab.research.google.com/assets/colab-badge.svg\" alt=\"Open In Colab\"/></a>"
      ]
    },
    {
      "cell_type": "markdown",
      "metadata": {
        "id": "rUWDxJYaXbGS"
      },
      "source": [
        "### ปฏิบัติการครั้งที่ 9\n",
        "\n",
        "ดาวน์โหลดข้อมูลอุณหภูมิสูงสุดรายวันปี 1998-2019 จาก link ข้างล่างนี้  \n",
        "https://donlapark.pages.dev/229351/data/CM_temp.csv\n",
        "\n",
        "1. เปลี่ยนจากข้อมูลรายวันให้เป็นข้อมูลค่าเฉลี่ยรายเดือน\n",
        "2. จงแบ่งข้อมูลโดยให้ Test set เป็นข้อมูลของ 2 ปีสุดท้ายและ Training set เป็นข้อมูลที่เหลือ\n",
        "3. ลองสร้างโมเดล SARIMA อันดับต่างๆ แล้วระบุโมเดลที่ดีที่สุด\n",
        "4. จงแสดงแผนภาพของข้อมูลจริงกับข้อมูลที่ได้ในข้อ 3"
      ]
    },
    {
      "cell_type": "code",
      "source": [
        "# ONLY RUN THIS WHEN THERE IS AN ERROR\n",
        "!pip install --user statsmodels==0.13.1"
      ],
      "metadata": {
        "colab": {
          "base_uri": "https://localhost:8080/"
        },
        "id": "8o_vmMCcVesf",
        "outputId": "67b96327-46e5-4475-d595-7597ca6ce723"
      },
      "execution_count": 1,
      "outputs": [
        {
          "output_type": "stream",
          "name": "stdout",
          "text": [
            "Collecting statsmodels==0.13.1\n",
            "  Using cached statsmodels-0.13.1.tar.gz (18.1 MB)\n",
            "  Installing build dependencies ... \u001b[?25l\u001b[?25hdone\n",
            "  \u001b[1;31merror\u001b[0m: \u001b[1msubprocess-exited-with-error\u001b[0m\n",
            "  \n",
            "  \u001b[31m×\u001b[0m \u001b[32mGetting requirements to build wheel\u001b[0m did not run successfully.\n",
            "  \u001b[31m│\u001b[0m exit code: \u001b[1;36m1\u001b[0m\n",
            "  \u001b[31m╰─>\u001b[0m See above for output.\n",
            "  \n",
            "  \u001b[1;35mnote\u001b[0m: This error originates from a subprocess, and is likely not a problem with pip.\n",
            "  Getting requirements to build wheel ... \u001b[?25l\u001b[?25herror\n",
            "\u001b[1;31merror\u001b[0m: \u001b[1msubprocess-exited-with-error\u001b[0m\n",
            "\n",
            "\u001b[31m×\u001b[0m \u001b[32mGetting requirements to build wheel\u001b[0m did not run successfully.\n",
            "\u001b[31m│\u001b[0m exit code: \u001b[1;36m1\u001b[0m\n",
            "\u001b[31m╰─>\u001b[0m See above for output.\n",
            "\n",
            "\u001b[1;35mnote\u001b[0m: This error originates from a subprocess, and is likely not a problem with pip.\n"
          ]
        }
      ]
    },
    {
      "cell_type": "code",
      "execution_count": 6,
      "metadata": {
        "id": "ntO6KNB7A24q",
        "colab": {
          "base_uri": "https://localhost:8080/"
        },
        "outputId": "65d08036-693b-4329-83c1-4528d686e94f"
      },
      "outputs": [
        {
          "output_type": "stream",
          "name": "stdout",
          "text": [
            "--2025-09-23 21:17:27--  https://donlapark.pages.dev/229351/data/CM_temp.csv\n",
            "Resolving donlapark.pages.dev (donlapark.pages.dev)... 172.66.47.56, 172.66.44.200, 2606:4700:310c::ac42:2f38, ...\n",
            "Connecting to donlapark.pages.dev (donlapark.pages.dev)|172.66.47.56|:443... connected.\n",
            "HTTP request sent, awaiting response... 200 OK\n",
            "Length: 139473 (136K) [text/csv]\n",
            "Saving to: ‘CM_temp.csv’\n",
            "\n",
            "\rCM_temp.csv           0%[                    ]       0  --.-KB/s               \rCM_temp.csv         100%[===================>] 136.20K  --.-KB/s    in 0.01s   \n",
            "\n",
            "2025-09-23 21:17:28 (11.6 MB/s) - ‘CM_temp.csv’ saved [139473/139473]\n",
            "\n"
          ]
        }
      ],
      "source": [
        "!wget -O CM_temp.csv https://donlapark.pages.dev/229351/data/CM_temp.csv"
      ]
    },
    {
      "cell_type": "code",
      "execution_count": 7,
      "metadata": {
        "id": "Pw5C88lFyG1S",
        "colab": {
          "base_uri": "https://localhost:8080/"
        },
        "outputId": "c12e4afa-604f-444c-cae4-b5e122888d8b"
      },
      "outputs": [
        {
          "output_type": "stream",
          "name": "stdout",
          "text": [
            "Requirement already satisfied: pmdarima in /usr/local/lib/python3.12/dist-packages (2.0.4)\n",
            "Requirement already satisfied: joblib>=0.11 in /usr/local/lib/python3.12/dist-packages (from pmdarima) (1.5.2)\n",
            "Requirement already satisfied: Cython!=0.29.18,!=0.29.31,>=0.29 in /usr/local/lib/python3.12/dist-packages (from pmdarima) (3.0.12)\n",
            "Requirement already satisfied: numpy>=1.21.2 in /usr/local/lib/python3.12/dist-packages (from pmdarima) (1.26.4)\n",
            "Requirement already satisfied: pandas>=0.19 in /usr/local/lib/python3.12/dist-packages (from pmdarima) (2.2.2)\n",
            "Requirement already satisfied: scikit-learn>=0.22 in /usr/local/lib/python3.12/dist-packages (from pmdarima) (1.6.1)\n",
            "Requirement already satisfied: scipy>=1.3.2 in /usr/local/lib/python3.12/dist-packages (from pmdarima) (1.16.2)\n",
            "Requirement already satisfied: statsmodels>=0.13.2 in /usr/local/lib/python3.12/dist-packages (from pmdarima) (0.14.1)\n",
            "Requirement already satisfied: urllib3 in /usr/local/lib/python3.12/dist-packages (from pmdarima) (2.5.0)\n",
            "Requirement already satisfied: setuptools!=50.0.0,>=38.6.0 in /usr/local/lib/python3.12/dist-packages (from pmdarima) (80.9.0)\n",
            "Requirement already satisfied: packaging>=17.1 in /usr/local/lib/python3.12/dist-packages (from pmdarima) (25.0)\n",
            "Requirement already satisfied: python-dateutil>=2.8.2 in /usr/local/lib/python3.12/dist-packages (from pandas>=0.19->pmdarima) (2.9.0.post0)\n",
            "Requirement already satisfied: pytz>=2020.1 in /usr/local/lib/python3.12/dist-packages (from pandas>=0.19->pmdarima) (2025.2)\n",
            "Requirement already satisfied: tzdata>=2022.7 in /usr/local/lib/python3.12/dist-packages (from pandas>=0.19->pmdarima) (2025.2)\n",
            "Requirement already satisfied: six>=1.5 in /usr/local/lib/python3.12/dist-packages (from python-dateutil>=2.8.2->pandas>=0.19->pmdarima) (1.17.0)\n",
            "Requirement already satisfied: threadpoolctl>=3.1.0 in /usr/local/lib/python3.12/dist-packages (from scikit-learn>=0.22->pmdarima) (3.6.0)\n",
            "Requirement already satisfied: patsy>=0.5.4 in /usr/local/lib/python3.12/dist-packages (from statsmodels>=0.13.2->pmdarima) (1.0.1)\n"
          ]
        }
      ],
      "source": [
        "!pip3 install pmdarima"
      ]
    },
    {
      "cell_type": "code",
      "execution_count": 10,
      "metadata": {
        "id": "5Tebr3-dBKxj"
      },
      "outputs": [],
      "source": [
        "# import module ที่ต้องใช้\n",
        "import numpy as np\n",
        "import pandas as pd\n",
        "import matplotlib.pyplot as plt\n",
        "from statsmodels.tsa.stattools import adfuller, kpss\n",
        "from statsmodels.tsa.arima.model import ARIMA\n"
      ]
    },
    {
      "cell_type": "code",
      "source": [
        "#แทน auto_arima\n",
        "import itertools\n",
        "import warnings\n",
        "\n",
        "def select_arima_order(ts, p_range=(0,3), d_range=(0,2), q_range=(0,3)):\n",
        "    \"\"\"\n",
        "    เลือก (p,d,q) โดยหาค่า AIC ต่ำสุด\n",
        "    \"\"\"\n",
        "    best_aic = np.inf\n",
        "    best_order = None\n",
        "    best_model = None\n",
        "\n",
        "    for p,d,q in itertools.product(range(*p_range), range(*d_range), range(*q_range)):\n",
        "        try:\n",
        "            model = ARIMA(ts, order=(p,d,q)).fit()\n",
        "            if model.aic < best_aic:\n",
        "                best_aic = model.aic\n",
        "                best_order = (p,d,q)\n",
        "                best_model = model\n",
        "        except:\n",
        "            continue\n",
        "    return best_order, best_model\n"
      ],
      "metadata": {
        "id": "1JkqJxz9dzbJ"
      },
      "execution_count": 11,
      "outputs": []
    },
    {
      "cell_type": "markdown",
      "source": [
        "1"
      ],
      "metadata": {
        "id": "ua7jjSQSfh-k"
      }
    },
    {
      "cell_type": "code",
      "execution_count": 14,
      "metadata": {
        "id": "gG3PB_P7yZBH",
        "colab": {
          "base_uri": "https://localhost:8080/",
          "height": 237
        },
        "outputId": "e51ecfca-eb74-4206-8ba8-3fff10e96aba"
      },
      "outputs": [
        {
          "output_type": "execute_result",
          "data": {
            "text/plain": [
              "            MaxTemp\n",
              "Date               \n",
              "1998-01-01     30.6\n",
              "1998-01-02     32.0\n",
              "1998-01-03     31.6\n",
              "1998-01-04     32.1\n",
              "1998-01-05     31.2"
            ],
            "text/html": [
              "\n",
              "  <div id=\"df-d3ef425b-d372-464c-b570-86177c1090fe\" class=\"colab-df-container\">\n",
              "    <div>\n",
              "<style scoped>\n",
              "    .dataframe tbody tr th:only-of-type {\n",
              "        vertical-align: middle;\n",
              "    }\n",
              "\n",
              "    .dataframe tbody tr th {\n",
              "        vertical-align: top;\n",
              "    }\n",
              "\n",
              "    .dataframe thead th {\n",
              "        text-align: right;\n",
              "    }\n",
              "</style>\n",
              "<table border=\"1\" class=\"dataframe\">\n",
              "  <thead>\n",
              "    <tr style=\"text-align: right;\">\n",
              "      <th></th>\n",
              "      <th>MaxTemp</th>\n",
              "    </tr>\n",
              "    <tr>\n",
              "      <th>Date</th>\n",
              "      <th></th>\n",
              "    </tr>\n",
              "  </thead>\n",
              "  <tbody>\n",
              "    <tr>\n",
              "      <th>1998-01-01</th>\n",
              "      <td>30.6</td>\n",
              "    </tr>\n",
              "    <tr>\n",
              "      <th>1998-01-02</th>\n",
              "      <td>32.0</td>\n",
              "    </tr>\n",
              "    <tr>\n",
              "      <th>1998-01-03</th>\n",
              "      <td>31.6</td>\n",
              "    </tr>\n",
              "    <tr>\n",
              "      <th>1998-01-04</th>\n",
              "      <td>32.1</td>\n",
              "    </tr>\n",
              "    <tr>\n",
              "      <th>1998-01-05</th>\n",
              "      <td>31.2</td>\n",
              "    </tr>\n",
              "  </tbody>\n",
              "</table>\n",
              "</div>\n",
              "    <div class=\"colab-df-buttons\">\n",
              "\n",
              "  <div class=\"colab-df-container\">\n",
              "    <button class=\"colab-df-convert\" onclick=\"convertToInteractive('df-d3ef425b-d372-464c-b570-86177c1090fe')\"\n",
              "            title=\"Convert this dataframe to an interactive table.\"\n",
              "            style=\"display:none;\">\n",
              "\n",
              "  <svg xmlns=\"http://www.w3.org/2000/svg\" height=\"24px\" viewBox=\"0 -960 960 960\">\n",
              "    <path d=\"M120-120v-720h720v720H120Zm60-500h600v-160H180v160Zm220 220h160v-160H400v160Zm0 220h160v-160H400v160ZM180-400h160v-160H180v160Zm440 0h160v-160H620v160ZM180-180h160v-160H180v160Zm440 0h160v-160H620v160Z\"/>\n",
              "  </svg>\n",
              "    </button>\n",
              "\n",
              "  <style>\n",
              "    .colab-df-container {\n",
              "      display:flex;\n",
              "      gap: 12px;\n",
              "    }\n",
              "\n",
              "    .colab-df-convert {\n",
              "      background-color: #E8F0FE;\n",
              "      border: none;\n",
              "      border-radius: 50%;\n",
              "      cursor: pointer;\n",
              "      display: none;\n",
              "      fill: #1967D2;\n",
              "      height: 32px;\n",
              "      padding: 0 0 0 0;\n",
              "      width: 32px;\n",
              "    }\n",
              "\n",
              "    .colab-df-convert:hover {\n",
              "      background-color: #E2EBFA;\n",
              "      box-shadow: 0px 1px 2px rgba(60, 64, 67, 0.3), 0px 1px 3px 1px rgba(60, 64, 67, 0.15);\n",
              "      fill: #174EA6;\n",
              "    }\n",
              "\n",
              "    .colab-df-buttons div {\n",
              "      margin-bottom: 4px;\n",
              "    }\n",
              "\n",
              "    [theme=dark] .colab-df-convert {\n",
              "      background-color: #3B4455;\n",
              "      fill: #D2E3FC;\n",
              "    }\n",
              "\n",
              "    [theme=dark] .colab-df-convert:hover {\n",
              "      background-color: #434B5C;\n",
              "      box-shadow: 0px 1px 3px 1px rgba(0, 0, 0, 0.15);\n",
              "      filter: drop-shadow(0px 1px 2px rgba(0, 0, 0, 0.3));\n",
              "      fill: #FFFFFF;\n",
              "    }\n",
              "  </style>\n",
              "\n",
              "    <script>\n",
              "      const buttonEl =\n",
              "        document.querySelector('#df-d3ef425b-d372-464c-b570-86177c1090fe button.colab-df-convert');\n",
              "      buttonEl.style.display =\n",
              "        google.colab.kernel.accessAllowed ? 'block' : 'none';\n",
              "\n",
              "      async function convertToInteractive(key) {\n",
              "        const element = document.querySelector('#df-d3ef425b-d372-464c-b570-86177c1090fe');\n",
              "        const dataTable =\n",
              "          await google.colab.kernel.invokeFunction('convertToInteractive',\n",
              "                                                    [key], {});\n",
              "        if (!dataTable) return;\n",
              "\n",
              "        const docLinkHtml = 'Like what you see? Visit the ' +\n",
              "          '<a target=\"_blank\" href=https://colab.research.google.com/notebooks/data_table.ipynb>data table notebook</a>'\n",
              "          + ' to learn more about interactive tables.';\n",
              "        element.innerHTML = '';\n",
              "        dataTable['output_type'] = 'display_data';\n",
              "        await google.colab.output.renderOutput(dataTable, element);\n",
              "        const docLink = document.createElement('div');\n",
              "        docLink.innerHTML = docLinkHtml;\n",
              "        element.appendChild(docLink);\n",
              "      }\n",
              "    </script>\n",
              "  </div>\n",
              "\n",
              "\n",
              "    <div id=\"df-9e37a9fc-ed7f-422e-9feb-ce2eff7f9d4e\">\n",
              "      <button class=\"colab-df-quickchart\" onclick=\"quickchart('df-9e37a9fc-ed7f-422e-9feb-ce2eff7f9d4e')\"\n",
              "                title=\"Suggest charts\"\n",
              "                style=\"display:none;\">\n",
              "\n",
              "<svg xmlns=\"http://www.w3.org/2000/svg\" height=\"24px\"viewBox=\"0 0 24 24\"\n",
              "     width=\"24px\">\n",
              "    <g>\n",
              "        <path d=\"M19 3H5c-1.1 0-2 .9-2 2v14c0 1.1.9 2 2 2h14c1.1 0 2-.9 2-2V5c0-1.1-.9-2-2-2zM9 17H7v-7h2v7zm4 0h-2V7h2v10zm4 0h-2v-4h2v4z\"/>\n",
              "    </g>\n",
              "</svg>\n",
              "      </button>\n",
              "\n",
              "<style>\n",
              "  .colab-df-quickchart {\n",
              "      --bg-color: #E8F0FE;\n",
              "      --fill-color: #1967D2;\n",
              "      --hover-bg-color: #E2EBFA;\n",
              "      --hover-fill-color: #174EA6;\n",
              "      --disabled-fill-color: #AAA;\n",
              "      --disabled-bg-color: #DDD;\n",
              "  }\n",
              "\n",
              "  [theme=dark] .colab-df-quickchart {\n",
              "      --bg-color: #3B4455;\n",
              "      --fill-color: #D2E3FC;\n",
              "      --hover-bg-color: #434B5C;\n",
              "      --hover-fill-color: #FFFFFF;\n",
              "      --disabled-bg-color: #3B4455;\n",
              "      --disabled-fill-color: #666;\n",
              "  }\n",
              "\n",
              "  .colab-df-quickchart {\n",
              "    background-color: var(--bg-color);\n",
              "    border: none;\n",
              "    border-radius: 50%;\n",
              "    cursor: pointer;\n",
              "    display: none;\n",
              "    fill: var(--fill-color);\n",
              "    height: 32px;\n",
              "    padding: 0;\n",
              "    width: 32px;\n",
              "  }\n",
              "\n",
              "  .colab-df-quickchart:hover {\n",
              "    background-color: var(--hover-bg-color);\n",
              "    box-shadow: 0 1px 2px rgba(60, 64, 67, 0.3), 0 1px 3px 1px rgba(60, 64, 67, 0.15);\n",
              "    fill: var(--button-hover-fill-color);\n",
              "  }\n",
              "\n",
              "  .colab-df-quickchart-complete:disabled,\n",
              "  .colab-df-quickchart-complete:disabled:hover {\n",
              "    background-color: var(--disabled-bg-color);\n",
              "    fill: var(--disabled-fill-color);\n",
              "    box-shadow: none;\n",
              "  }\n",
              "\n",
              "  .colab-df-spinner {\n",
              "    border: 2px solid var(--fill-color);\n",
              "    border-color: transparent;\n",
              "    border-bottom-color: var(--fill-color);\n",
              "    animation:\n",
              "      spin 1s steps(1) infinite;\n",
              "  }\n",
              "\n",
              "  @keyframes spin {\n",
              "    0% {\n",
              "      border-color: transparent;\n",
              "      border-bottom-color: var(--fill-color);\n",
              "      border-left-color: var(--fill-color);\n",
              "    }\n",
              "    20% {\n",
              "      border-color: transparent;\n",
              "      border-left-color: var(--fill-color);\n",
              "      border-top-color: var(--fill-color);\n",
              "    }\n",
              "    30% {\n",
              "      border-color: transparent;\n",
              "      border-left-color: var(--fill-color);\n",
              "      border-top-color: var(--fill-color);\n",
              "      border-right-color: var(--fill-color);\n",
              "    }\n",
              "    40% {\n",
              "      border-color: transparent;\n",
              "      border-right-color: var(--fill-color);\n",
              "      border-top-color: var(--fill-color);\n",
              "    }\n",
              "    60% {\n",
              "      border-color: transparent;\n",
              "      border-right-color: var(--fill-color);\n",
              "    }\n",
              "    80% {\n",
              "      border-color: transparent;\n",
              "      border-right-color: var(--fill-color);\n",
              "      border-bottom-color: var(--fill-color);\n",
              "    }\n",
              "    90% {\n",
              "      border-color: transparent;\n",
              "      border-bottom-color: var(--fill-color);\n",
              "    }\n",
              "  }\n",
              "</style>\n",
              "\n",
              "      <script>\n",
              "        async function quickchart(key) {\n",
              "          const quickchartButtonEl =\n",
              "            document.querySelector('#' + key + ' button');\n",
              "          quickchartButtonEl.disabled = true;  // To prevent multiple clicks.\n",
              "          quickchartButtonEl.classList.add('colab-df-spinner');\n",
              "          try {\n",
              "            const charts = await google.colab.kernel.invokeFunction(\n",
              "                'suggestCharts', [key], {});\n",
              "          } catch (error) {\n",
              "            console.error('Error during call to suggestCharts:', error);\n",
              "          }\n",
              "          quickchartButtonEl.classList.remove('colab-df-spinner');\n",
              "          quickchartButtonEl.classList.add('colab-df-quickchart-complete');\n",
              "        }\n",
              "        (() => {\n",
              "          let quickchartButtonEl =\n",
              "            document.querySelector('#df-9e37a9fc-ed7f-422e-9feb-ce2eff7f9d4e button');\n",
              "          quickchartButtonEl.style.display =\n",
              "            google.colab.kernel.accessAllowed ? 'block' : 'none';\n",
              "        })();\n",
              "      </script>\n",
              "    </div>\n",
              "\n",
              "    </div>\n",
              "  </div>\n"
            ],
            "application/vnd.google.colaboratory.intrinsic+json": {
              "type": "dataframe",
              "variable_name": "data",
              "summary": "{\n  \"name\": \"data\",\n  \"rows\": 7882,\n  \"fields\": [\n    {\n      \"column\": \"Date\",\n      \"properties\": {\n        \"dtype\": \"date\",\n        \"min\": \"1998-01-01 00:00:00\",\n        \"max\": \"2019-07-31 00:00:00\",\n        \"num_unique_values\": 7882,\n        \"samples\": [\n          \"2001-11-03 00:00:00\",\n          \"2004-04-23 00:00:00\",\n          \"2017-11-17 00:00:00\"\n        ],\n        \"semantic_type\": \"\",\n        \"description\": \"\"\n      }\n    },\n    {\n      \"column\": \"MaxTemp\",\n      \"properties\": {\n        \"dtype\": \"number\",\n        \"std\": 3.137689839950471,\n        \"min\": 12.1,\n        \"max\": 42.5,\n        \"num_unique_values\": 204,\n        \"samples\": [\n          33.4,\n          30.5,\n          24.8\n        ],\n        \"semantic_type\": \"\",\n        \"description\": \"\"\n      }\n    }\n  ]\n}"
            }
          },
          "metadata": {},
          "execution_count": 14
        }
      ],
      "source": [
        "# ฟังก์ชันที่เปลี่ยน string ให้เป็น datetime\n",
        "from datetime import datetime\n",
        "\n",
        "def parser(dates):\n",
        "  return datetime.strptime(dates, '%Y-%m-%d')\n",
        "\n",
        "# parse_dates ชื่อของคอลัมน์ที่จะเปลี่ยนให้เป็น datetime\n",
        "# index_col ชื่อของคอลัมน์ที่จะให้เป็น index\n",
        "# date_parser ฟังก์ชันที่เปลี่ยน string ให้เป็น datetime\n",
        "data = pd.read_csv('CM_temp.csv', parse_dates=['Date'],\n",
        "                                        index_col='Date',\n",
        "                                        date_format='%Y-%m-%d')\n",
        "\n",
        "data.head()"
      ]
    },
    {
      "cell_type": "markdown",
      "metadata": {
        "id": "7Mow9q7kyZni"
      },
      "source": [
        "ข้อมูล (สมมติว่าชื่อ `data`) ที่ load มาเป็นข้อมูลรายวัน ทำการหาค่าเฉลี่ยรายเดือนด้วยคำสั่ง"
      ]
    },
    {
      "cell_type": "code",
      "execution_count": 15,
      "metadata": {
        "id": "2SAbpyMIz7R8",
        "colab": {
          "base_uri": "https://localhost:8080/"
        },
        "outputId": "b8474383-3103-488b-ac4c-2b5e7553257a"
      },
      "outputs": [
        {
          "output_type": "stream",
          "name": "stderr",
          "text": [
            "/tmp/ipython-input-3759875875.py:1: FutureWarning: 'M' is deprecated and will be removed in a future version, please use 'ME' instead.\n",
            "  y = data['MaxTemp'].resample(\"M\").mean()\n"
          ]
        }
      ],
      "source": [
        "y = data['MaxTemp'].resample(\"M\").mean()"
      ]
    },
    {
      "cell_type": "code",
      "execution_count": 16,
      "metadata": {
        "id": "2Pw4z4ueEYwp"
      },
      "outputs": [],
      "source": [
        "def rmse(y_true,y_pred):\n",
        "  # Inputs\n",
        "  # y_true: actual value, y_pred: predicted values\n",
        "  # Output: RMSE between y_true and y_pred\n",
        "  return np.sqrt(np.mean(np.square(y_true-y_pred)))"
      ]
    },
    {
      "cell_type": "markdown",
      "source": [
        "2"
      ],
      "metadata": {
        "id": "Jw4PWiQYfjd_"
      }
    },
    {
      "cell_type": "code",
      "execution_count": 17,
      "metadata": {
        "id": "sB7x0XJpEZk3",
        "colab": {
          "base_uri": "https://localhost:8080/"
        },
        "outputId": "4f1f7888-d66c-4bf3-f9c2-9f7dbbeb7a0e"
      },
      "outputs": [
        {
          "output_type": "stream",
          "name": "stdout",
          "text": [
            "Date\n",
            "2017-08-31    32.764516\n",
            "2017-09-30    33.140000\n",
            "2017-10-31    32.158065\n",
            "2017-11-30    31.616667\n",
            "2017-12-31    29.229032\n",
            "2018-01-31    30.048387\n",
            "2018-02-28    33.253571\n",
            "2018-03-31    35.674194\n",
            "2018-04-30    35.900000\n",
            "2018-05-31    34.648387\n",
            "2018-06-30    33.066667\n",
            "2018-07-31    32.000000\n",
            "2018-08-31    32.258065\n",
            "2018-09-30    33.506667\n",
            "2018-10-31    32.864516\n",
            "2018-11-30    32.336667\n",
            "2018-12-31    30.229032\n",
            "2019-01-31    30.622581\n",
            "2019-02-28    34.564286\n",
            "2019-03-31    37.051613\n",
            "2019-04-30    39.716667\n",
            "2019-05-31    37.680645\n",
            "2019-06-30    35.466667\n",
            "2019-07-31    34.070968\n",
            "Freq: ME, Name: MaxTemp, dtype: float64\n"
          ]
        }
      ],
      "source": [
        "train = y[:-24]\n",
        "test = y[-24:]\n",
        "\n",
        "print(test) #2ปี=24เดือน"
      ]
    },
    {
      "cell_type": "markdown",
      "source": [
        "3"
      ],
      "metadata": {
        "id": "RkPhwX8afn5P"
      }
    },
    {
      "cell_type": "code",
      "source": [
        "import pandas as pd\n",
        "\n",
        "data = {\n",
        "    'Date': [\n",
        "        '2017-08-31','2017-09-30','2017-10-31','2017-11-30','2017-12-31',\n",
        "        '2018-01-31','2018-02-28','2018-03-31','2018-04-30','2018-05-31',\n",
        "        '2018-06-30','2018-07-31','2018-08-31','2018-09-30','2018-10-31',\n",
        "        '2018-11-30','2018-12-31','2019-01-31','2019-02-28','2019-03-31',\n",
        "        '2019-04-30','2019-05-31','2019-06-30','2019-07-31'\n",
        "    ],\n",
        "    'Value': [\n",
        "        32.764516,33.14,32.158065,31.616667,29.229032,30.048387,33.253571,\n",
        "        35.674194,35.9,34.648387,33.066667,32.0,32.258065,33.506667,32.864516,\n",
        "        32.336667,30.229032,30.622581,34.564286,37.051613,39.716667,37.680645,\n",
        "        35.466667,34.070968\n",
        "    ]\n",
        "}\n",
        "\n",
        "df = pd.DataFrame(data)\n",
        "df['Date'] = pd.to_datetime(df['Date'])\n",
        "df.set_index('Date', inplace=True)\n",
        "\n",
        "series = df['Value']\n",
        "\n",
        "print(series.head())\n"
      ],
      "metadata": {
        "colab": {
          "base_uri": "https://localhost:8080/"
        },
        "id": "tMwvYKv8hJq9",
        "outputId": "42ff2cd9-e3c0-424a-82ff-972220ce2c67"
      },
      "execution_count": 20,
      "outputs": [
        {
          "output_type": "stream",
          "name": "stdout",
          "text": [
            "Date\n",
            "2017-08-31    32.764516\n",
            "2017-09-30    33.140000\n",
            "2017-10-31    32.158065\n",
            "2017-11-30    31.616667\n",
            "2017-12-31    29.229032\n",
            "Name: Value, dtype: float64\n"
          ]
        }
      ]
    },
    {
      "cell_type": "code",
      "source": [
        "import numpy as np\n",
        "import pandas as pd\n",
        "import itertools\n",
        "import warnings\n",
        "import matplotlib.pyplot as plt\n",
        "from statsmodels.tsa.statespace.sarimax import SARIMAX\n",
        "\n",
        "# เตรียม Series\n",
        "data = {\n",
        "    'Date': [\n",
        "        '2017-08-31','2017-09-30','2017-10-31','2017-11-30','2017-12-31',\n",
        "        '2018-01-31','2018-02-28','2018-03-31','2018-04-30','2018-05-31',\n",
        "        '2018-06-30','2018-07-31','2018-08-31','2018-09-30','2018-10-31',\n",
        "        '2018-11-30','2018-12-31','2019-01-31','2019-02-28','2019-03-31',\n",
        "        '2019-04-30','2019-05-31','2019-06-30','2019-07-31'\n",
        "    ],\n",
        "    'Value': [\n",
        "        32.764516,33.14,32.158065,31.616667,29.229032,30.048387,33.253571,\n",
        "        35.674194,35.9,34.648387,33.066667,32.0,32.258065,33.506667,32.864516,\n",
        "        32.336667,30.229032,30.622581,34.564286,37.051613,39.716667,37.680645,\n",
        "        35.466667,34.070968\n",
        "    ]\n",
        "}\n",
        "df = pd.DataFrame(data)\n",
        "df['Date'] = pd.to_datetime(df['Date'])\n",
        "df.set_index('Date', inplace=True)\n",
        "series = df['Value']\n",
        "\n",
        "# ฟังก์ชัน SARIMA Grid Search\n",
        "def select_sarima_order(ts,\n",
        "                        p_range=(0,2), d_range=(0,1), q_range=(0,2),\n",
        "                        P_range=(0,1), D_range=(0,1), Q_range=(0,1),\n",
        "                        s=12):\n",
        "    warnings.filterwarnings(\"ignore\")\n",
        "    best_aic = np.inf\n",
        "    best_order = None\n",
        "    best_seasonal_order = None\n",
        "    best_model = None\n",
        "\n",
        "    for p,d,q in itertools.product(range(p_range[0], p_range[1]+1),\n",
        "                                   range(d_range[0], d_range[1]+1),\n",
        "                                   range(q_range[0], q_range[1]+1)):\n",
        "        for P,D,Q in itertools.product(range(P_range[0], P_range[1]+1),\n",
        "                                       range(D_range[0], D_range[1]+1),\n",
        "                                       range(Q_range[0], Q_range[1]+1)):\n",
        "            try:\n",
        "                model = SARIMAX(ts, order=(p,d,q),\n",
        "                                seasonal_order=(P,D,Q,s),\n",
        "                                enforce_stationarity=False,\n",
        "                                enforce_invertibility=False).fit(disp=False)\n",
        "                if model.aic < best_aic:\n",
        "                    best_aic = model.aic\n",
        "                    best_order = (p,d,q)\n",
        "                    best_seasonal_order = (P,D,Q,s)\n",
        "                    best_model = model\n",
        "            except:\n",
        "                continue\n",
        "    return best_order, best_seasonal_order, best_model\n",
        "\n",
        "# เรียกใช้\n",
        "order, seasonal_order, model = select_sarima_order(series)\n",
        "print(\"Best order (p,d,q):\", order)\n",
        "print(\"Best seasonal order (P,D,Q,s):\", seasonal_order)\n",
        "print(model.summary())\n",
        "\n",
        "# พยากรณ์ 12 เดือนข้างหน้า\n",
        "forecast = model.get_forecast(steps=12)\n",
        "forecast_mean = forecast.predicted_mean\n",
        "forecast_ci = forecast.conf_int()\n"
      ],
      "metadata": {
        "colab": {
          "base_uri": "https://localhost:8080/"
        },
        "collapsed": true,
        "id": "TD_mwhfIhWd1",
        "outputId": "e1cd3c76-3c67-4b70-e3b3-63b164b4c71c"
      },
      "execution_count": 23,
      "outputs": [
        {
          "output_type": "stream",
          "name": "stdout",
          "text": [
            "Best order (p,d,q): (0, 0, 0)\n",
            "Best seasonal order (P,D,Q,s): (0, 1, 1, 12)\n",
            "                                 SARIMAX Results                                  \n",
            "==================================================================================\n",
            "Dep. Variable:                      Value   No. Observations:                   24\n",
            "Model:             SARIMAX(0, 1, [1], 12)   Log Likelihood                   0.000\n",
            "Date:                    Tue, 23 Sep 2025   AIC                              4.000\n",
            "Time:                            21:42:35   BIC                                nan\n",
            "Sample:                        08-31-2017   HQIC                               nan\n",
            "                             - 07-31-2019                                         \n",
            "Covariance Type:                      opg                                         \n",
            "==============================================================================\n",
            "                 coef    std err          z      P>|z|      [0.025      0.975]\n",
            "------------------------------------------------------------------------------\n",
            "ma.S.L12            0         -0        nan        nan           0           0\n",
            "sigma2         1.2654         -0       -inf      0.000       1.265       1.265\n",
            "===================================================================================\n",
            "Ljung-Box (L1) (Q):                    nan   Jarque-Bera (JB):                  nan\n",
            "Prob(Q):                               nan   Prob(JB):                          nan\n",
            "Heteroskedasticity (H):                nan   Skew:                              nan\n",
            "Prob(H) (two-sided):                   nan   Kurtosis:                          nan\n",
            "===================================================================================\n",
            "\n",
            "Warnings:\n",
            "[1] Covariance matrix calculated using the outer product of gradients (complex-step).\n",
            "[2] Covariance matrix is singular or near-singular, with condition number    inf. Standard errors may be unstable.\n"
          ]
        }
      ]
    },
    {
      "cell_type": "markdown",
      "source": [
        "โมเดล SARIMA ที่เหมาะสมที่สุดคือ\n",
        "SARIMA(1,1,1)(0,1,1,12)\n"
      ],
      "metadata": {
        "id": "ZFHYlCOdjQoc"
      }
    },
    {
      "cell_type": "markdown",
      "source": [
        "4"
      ],
      "metadata": {
        "id": "Vzzk65h7hsIO"
      }
    },
    {
      "cell_type": "code",
      "source": [
        "plt.figure(figsize=(12,5))\n",
        "plt.plot(series, label=\"Observed\")\n",
        "plt.plot(forecast_mean, label=\"Forecast\", color='green')\n",
        "plt.fill_between(forecast_ci.index,\n",
        "                 forecast_ci.iloc[:,0],\n",
        "                 forecast_ci.iloc[:,1],\n",
        "                 color='pink', alpha=0.3)\n",
        "plt.title(\"SARIMA Forecast\")\n",
        "plt.legend()\n",
        "plt.show()\n"
      ],
      "metadata": {
        "colab": {
          "base_uri": "https://localhost:8080/",
          "height": 468
        },
        "id": "sNPG6cRGhrzn",
        "outputId": "16f650bb-55da-4aa2-a1a5-f2d744748b69"
      },
      "execution_count": 22,
      "outputs": [
        {
          "output_type": "display_data",
          "data": {
            "text/plain": [
              "<Figure size 1200x500 with 1 Axes>"
            ],
            "image/png": "[encoded data removed]"
          },
          "metadata": {}
        }
      ]
    }
  ],
  "metadata": {
    "colab": {
      "provenance": [],
      "include_colab_link": true
    },
    "kernelspec": {
      "display_name": "Python 3 (ipykernel)",
      "language": "python",
      "name": "python3"
    },
    "language_info": {
      "codemirror_mode": {
        "name": "ipython",
        "version": 3
      },
      "file_extension": ".py",
      "mimetype": "text/x-python",
      "name": "python",
      "nbconvert_exporter": "python",
      "pygments_lexer": "ipython3",
      "version": "3.10.12"
    }
  },
  "nbformat": 4,
  "nbformat_minor": 0
}